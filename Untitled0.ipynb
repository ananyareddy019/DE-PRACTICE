{
  "nbformat": 4,
  "nbformat_minor": 0,
  "metadata": {
    "colab": {
      "provenance": []
    },
    "kernelspec": {
      "name": "python3",
      "display_name": "Python 3"
    },
    "language_info": {
      "name": "python"
    }
  },
  "cells": [
    {
      "cell_type": "code",
      "execution_count": 1,
      "metadata": {
        "colab": {
          "base_uri": "https://localhost:8080/"
        },
        "id": "jZjk4alyPqfI",
        "outputId": "9309c4dd-f263-4392-af4e-45e0a062fe56"
      },
      "outputs": [
        {
          "output_type": "stream",
          "name": "stdout",
          "text": [
            "['Ananya gampala', 'ravi bas', 'nithya mandadi']\n"
          ]
        }
      ],
      "source": [
        "firstname=[\"Ananya\",\"nithya\",\"ravi\"]\n",
        "lastname=[\"gampala\",\"mandadi\",\"bas\"]\n",
        "Fullname=[]\n",
        "if len(firstname)==len(lastname):\n",
        "    for i in range(len(firstname)):\n",
        "        Fullname.insert(1,(firstname[i]+\" \"+lastname[i]))\n",
        "    print(Fullname)"
      ]
    }
  ]
}